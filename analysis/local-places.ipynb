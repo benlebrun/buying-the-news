{
 "cells": [
  {
   "cell_type": "markdown",
   "metadata": {},
   "source": [
    "This notebook contains the analysis code for the number and proportion of local places mentionned in articles. This is the first part of the analysis section in the paper."
   ]
  },
  {
   "cell_type": "code",
   "execution_count": 1,
   "metadata": {},
   "outputs": [],
   "source": [
    "import pandas as pd\n",
    "import numpy as np\n",
    "import os\n",
    "import pickle\n",
    "from tqdm.notebook import tqdm\n",
    "from datetime import datetime\n",
    "import matplotlib.pyplot as plt\n",
    "from itertools import chain"
   ]
  },
  {
   "cell_type": "code",
   "execution_count": 2,
   "metadata": {},
   "outputs": [],
   "source": [
    "import seaborn as sns\n",
    "import matplotlib.pyplot as plt"
   ]
  },
  {
   "cell_type": "code",
   "execution_count": 3,
   "metadata": {},
   "outputs": [],
   "source": [
    "%load_ext autoreload\n",
    "%autoreload 2"
   ]
  },
  {
   "cell_type": "code",
   "execution_count": 4,
   "metadata": {},
   "outputs": [],
   "source": [
    "with open('../analysis/queries.p', 'rb') as f:\n",
    "    queries = pickle.load(f)\n",
    "with open('../analysis/pub2loc.p', 'rb') as f:\n",
    "    pub2loc = pickle.load(f)"
   ]
  },
  {
   "cell_type": "code",
   "execution_count": 5,
   "metadata": {},
   "outputs": [],
   "source": [
    "id2place = {v[0]['place_id']: {'entity':k[0], 'result':v} \n",
    "                                    for k,v in queries.items()}"
   ]
  },
  {
   "cell_type": "markdown",
   "metadata": {},
   "source": [
    "### LA Weekly"
   ]
  },
  {
   "cell_type": "code",
   "execution_count": 23,
   "metadata": {},
   "outputs": [],
   "source": [
    "# load LAW data \n",
    "with open('../data/places/la/pre-weeks.p', 'rb') as f:\n",
    "    pre_weeks_la = pickle.load(f)\n",
    "with open('../data/places/la/post-weeks.p', 'rb') as f:\n",
    "    post_weeks_la = pickle.load(f)"
   ]
  },
  {
   "cell_type": "code",
   "execution_count": 19,
   "metadata": {},
   "outputs": [],
   "source": [
    "# load LAW data (pandemic cut out of data)\n",
    "with open('../data/places/la/pre-weeks-cut.p', 'rb') as f:\n",
    "    pre_weeks_la = pickle.load(f)\n",
    "with open('../data/places/la/post-weeks-cut.p', 'rb') as f:\n",
    "    post_weeks_la = pickle.load(f)"
   ]
  },
  {
   "cell_type": "code",
   "execution_count": 20,
   "metadata": {},
   "outputs": [],
   "source": [
    "# get coordindates \n",
    "la_city_loc = queries[('LOS ANGELES', 'CA')][0]['geometry']['location'].values()"
   ]
  },
  {
   "cell_type": "code",
   "execution_count": 21,
   "metadata": {},
   "outputs": [],
   "source": [
    "from locality import periods2distances\n",
    "# compute the distances from the center of the city\n",
    "la_pre_distances = periods2distances(pre_weeks_la, lambda x: la_city_loc)\n",
    "la_post_distances = periods2distances(post_weeks_la, lambda x: la_city_loc)"
   ]
  },
  {
   "cell_type": "code",
   "execution_count": 22,
   "metadata": {},
   "outputs": [
    {
     "data": {
      "application/vnd.jupyter.widget-view+json": {
       "model_id": "13a199cabd614ab69120e2fd554756cf",
       "version_major": 2,
       "version_minor": 0
      },
      "text/plain": [
       "HBox(children=(FloatProgress(value=0.0, max=7.0), HTML(value='')))"
      ]
     },
     "metadata": {},
     "output_type": "display_data"
    },
    {
     "name": "stdout",
     "output_type": "stream",
     "text": [
      "\n"
     ]
    }
   ],
   "source": [
    "from locality import add_ratios, periods2bool, within_dist_prop\n",
    "\n",
    "# set parameter ranges\n",
    "dist_range = np.arange(20, 55, 5)\n",
    "ratio_range = np.arange(.05, 1.05, .05)\n",
    "\n",
    "# we are computing both the number and proportion\n",
    "la_pre_locals_prop, la_post_locals_prop = {dist:[] for dist in dist_range}, {dist:[] for dist in dist_range} \n",
    "la_pre_locals_cnt, la_post_locals_cnt = {dist:[] for dist in dist_range}, {dist:[] for dist in dist_range}\n",
    "\n",
    "# iterate over all parameter tuples\n",
    "for dist in tqdm(dist_range):\n",
    "    for required_ratio in ratio_range:\n",
    "        # proportion of local articles \n",
    "        la_pre_locals_prop[dist].append(periods2bool(la_pre_distances, \n",
    "                                    lambda article: within_dist_prop(article, dist, required_ratio)))\n",
    "        la_post_locals_prop[dist].append(periods2bool(la_post_distances, \n",
    "                                    lambda article: within_dist_prop(article, dist, required_ratio)))\n",
    "        # number of local articles \n",
    "        la_pre_locals_cnt[dist].append(periods2bool(la_pre_distances, \n",
    "                            lambda article: within_dist_prop(article, dist, required_ratio), ratio=False))\n",
    "        la_post_locals_cnt[dist].append(periods2bool(la_post_distances, \n",
    "                            lambda article: within_dist_prop(article, dist, required_ratio), ratio=False))\n",
    "    \n",
    "    # append ratios for bookeeping/analysis purposes\n",
    "    la_pre_locals_prop[dist] = add_ratios(la_pre_locals_prop[dist], ratio_range)\n",
    "    la_post_locals_prop[dist] = add_ratios(la_post_locals_prop[dist], ratio_range)\n",
    "    la_pre_locals_cnt[dist] = add_ratios(la_pre_locals_cnt[dist], ratio_range)\n",
    "    la_post_locals_cnt[dist] = add_ratios(la_post_locals_cnt[dist], ratio_range)"
   ]
  },
  {
   "cell_type": "code",
   "execution_count": 23,
   "metadata": {},
   "outputs": [],
   "source": [
    "import scipy.stats"
   ]
  },
  {
   "cell_type": "code",
   "execution_count": 24,
   "metadata": {},
   "outputs": [],
   "source": [
    "pre_cnts = list(chain(*[[row[-2] \n",
    "        for row in list(chain(*ratios))] for dist, ratios in la_pre_locals_cnt.items()]))\n",
    "post_cnts = list(chain(*[[row[-2] for row in list(chain(*ratios))] \n",
    "        for dist, ratios in la_post_locals_cnt.items()]))"
   ]
  },
  {
   "cell_type": "code",
   "execution_count": 25,
   "metadata": {},
   "outputs": [
    {
     "name": "stdout",
     "output_type": "stream",
     "text": [
      "------ Counts ------\n",
      "Means:  32.223076923076924 22.71679748822606\n",
      "Significance test: MannwhitneyuResult(statistic=62115241.0, pvalue=4.199001399586215e-231)\n",
      "%Δ: -0.2950146398974964\n"
     ]
    }
   ],
   "source": [
    "print('------ Counts ------')\n",
    "print('Means: ', np.mean(pre_cnts), np.mean(post_cnts))\n",
    "print('Significance test:', scipy.stats.mannwhitneyu(pre_cnts, post_cnts))\n",
    "print('%Δ:', (np.mean(post_cnts) - np.mean(pre_cnts))/np.mean(pre_cnts))"
   ]
  },
  {
   "cell_type": "code",
   "execution_count": 26,
   "metadata": {},
   "outputs": [
    {
     "name": "stdout",
     "output_type": "stream",
     "text": [
      "------ Counts (dates cut) ------\n",
      "Means:  32.223076923076924 22.71679748822606\n",
      "Significance test: MannwhitneyuResult(statistic=62115241.0, pvalue=4.199001399586215e-231)\n",
      "%Δ: -0.2950146398974964\n"
     ]
    }
   ],
   "source": [
    "print('------ Counts (dates cut) ------')\n",
    "print('Means: ', np.mean(pre_cnts), np.mean(post_cnts))\n",
    "print('Significance test:', scipy.stats.mannwhitneyu(pre_cnts, post_cnts))\n",
    "print('%Δ:', (np.mean(post_cnts) - np.mean(pre_cnts))/np.mean(pre_cnts))"
   ]
  },
  {
   "cell_type": "code",
   "execution_count": 27,
   "metadata": {},
   "outputs": [],
   "source": [
    "pre_props = list(chain(*[[row[-2] for row in list(chain(*ratios))] for dist, ratios in la_pre_locals_prop.items()]))\n",
    "post_props = list(chain(*[[row[-2] for row in list(chain(*ratios))] for dist, ratios in la_post_locals_prop.items()]))"
   ]
  },
  {
   "cell_type": "code",
   "execution_count": 28,
   "metadata": {},
   "outputs": [
    {
     "name": "stdout",
     "output_type": "stream",
     "text": [
      "------ Proportions ------\n",
      "Means:  0.4232440454815223 0.44492139358472377\n",
      "Significance test: MannwhitneyuResult(statistic=76145413.5, pvalue=7.24022399864127e-18)\n",
      "%Δ: 0.051217136625133844\n"
     ]
    }
   ],
   "source": [
    "print('------ Proportions ------')\n",
    "print('Means: ', np.mean(pre_props), np.mean(post_props))\n",
    "print('Significance test:', scipy.stats.mannwhitneyu(pre_props, post_props))\n",
    "print('%Δ:', (np.mean(post_props) - np.mean(pre_props))/np.mean(pre_props))"
   ]
  },
  {
   "cell_type": "code",
   "execution_count": 29,
   "metadata": {},
   "outputs": [
    {
     "name": "stdout",
     "output_type": "stream",
     "text": [
      "------ Proportions ------\n",
      "Means:  0.4232440454815223 0.44492139358472377\n",
      "Significance test: MannwhitneyuResult(statistic=76145413.5, pvalue=7.24022399864127e-18)\n",
      "%Δ: 0.051217136625133844\n"
     ]
    }
   ],
   "source": [
    "print('------ Proportions ------')\n",
    "print('Means: ', np.mean(pre_props), np.mean(post_props))\n",
    "print('Significance test:', scipy.stats.mannwhitneyu(pre_props, post_props))\n",
    "print('%Δ:', (np.mean(post_props) - np.mean(pre_props))/np.mean(pre_props))"
   ]
  },
  {
   "cell_type": "code",
   "execution_count": 30,
   "metadata": {},
   "outputs": [],
   "source": [
    "proportions = [[p, 'pre'] for p in pre_props] + [[p, 'post'] for p in post_props] \n",
    "counts = [[p, 'pre'] for p in pre_cnts] + [[p, 'post'] for p in post_cnts] \n",
    "df_la_prop = pd.DataFrame(proportions, columns=['num', 'Period'])\n",
    "df_la_cnts = pd.DataFrame(counts, columns=['num', 'Period'])"
   ]
  },
  {
   "cell_type": "markdown",
   "metadata": {},
   "source": [
    "### NYD News"
   ]
  },
  {
   "cell_type": "code",
   "execution_count": 31,
   "metadata": {},
   "outputs": [],
   "source": [
    "# load NYD data\n",
    "with open('../data/places/ny/pre-weeks.p', 'rb') as f:\n",
    "    ny_pre_weeks = pickle.load(f)\n",
    "# note that there are less post-weeks because of a suspicious trend in the data\n",
    "with open('../data/places/ny/post-weeks.p', 'rb') as f:\n",
    "    ny_post_weeks = pickle.load(f)"
   ]
  },
  {
   "cell_type": "code",
   "execution_count": 32,
   "metadata": {},
   "outputs": [],
   "source": [
    "ny_city_locs = [queries[('Queens', 'NY')][0]['geometry']['location'].values(), \n",
    "             queries[('The Bronx', 'NY')][0]['geometry']['location'].values(),\n",
    "             queries[('Staten Island', 'NY')][0]['geometry']['location'].values(),\n",
    "             queries[('Brooklyn', 'NY')][0]['geometry']['location'].values(),\n",
    "             queries[('Manhattan', 'NY')][0]['geometry']['location'].values()]"
   ]
  },
  {
   "cell_type": "code",
   "execution_count": 33,
   "metadata": {},
   "outputs": [],
   "source": [
    "from locality import get_city\n",
    "def get_sublocality(result):\n",
    "    try:\n",
    "        return [part['short_name'] for part in result['address_components'] \n",
    "                    if part['types'] == ['political', 'sublocality', 'sublocality_level_1']][0]\n",
    "    except IndexError:\n",
    "        return -1\n",
    "\n",
    "def within_city_prop(article, prop):\n",
    "    cnt = 0\n",
    "    for place in article:\n",
    "        if get_sublocality(place['result'][0]) in ['Staten Island', 'Manhattan','Brooklyn','The Bronx', 'Queens'] \\\n",
    "        or get_city(place['result'][0]) == 'New York':\n",
    "            cnt+=1\n",
    "        else:\n",
    "            continue\n",
    "    return cnt/len(article) >= prop if len(article) != 0 else False"
   ]
  },
  {
   "cell_type": "code",
   "execution_count": 34,
   "metadata": {},
   "outputs": [],
   "source": [
    "from locality import within_dist_prop, get_dist, periods2distances\n",
    "\n",
    "# for NYD we modify our functions so that the distance is the\n",
    "# minimal distance from the center of the 5 boroughs\n",
    "\n",
    "def article2distances(places, city_locs):\n",
    "    distances = []\n",
    "    for place in places:\n",
    "        if len(place['result']) > 1:\n",
    "            place = resolve(place, pub=pub)\n",
    "        place_loc = place['result'][0]['geometry']['location'].values()\n",
    "        # 5 boroughs in NYC, take minimal distance\n",
    "        distances.append(min(get_dist(place_loc, city_loc) for city_loc in city_locs))\n",
    "    return distances\n",
    "\n",
    "def articles2distances(articles, city_locs):\n",
    "    return [[url, article2distances(article, city_locs(url))] for url, article in articles]\n",
    "\n",
    "def periods2distances(periods, city_locs):\n",
    "    '''  city_loc is a fct from url -> loc '''\n",
    "    return {date:articles2distances(articles, city_locs)\n",
    "                     for date, articles in periods.items() if len(articles) > 0}"
   ]
  },
  {
   "cell_type": "code",
   "execution_count": 35,
   "metadata": {},
   "outputs": [],
   "source": [
    "# compute distances from closest city-center\n",
    "ny_pre_distances = periods2distances(ny_pre_weeks, lambda x: ny_city_locs)\n",
    "ny_post_distances = periods2distances(ny_post_weeks, lambda x: ny_city_locs)"
   ]
  },
  {
   "cell_type": "code",
   "execution_count": 36,
   "metadata": {},
   "outputs": [
    {
     "data": {
      "application/vnd.jupyter.widget-view+json": {
       "model_id": "fe3f8b8db851427b82ca9e916c98e3e0",
       "version_major": 2,
       "version_minor": 0
      },
      "text/plain": [
       "HBox(children=(FloatProgress(value=0.0, max=7.0), HTML(value='')))"
      ]
     },
     "metadata": {},
     "output_type": "display_data"
    },
    {
     "name": "stdout",
     "output_type": "stream",
     "text": [
      "\n"
     ]
    }
   ],
   "source": [
    "# set parameter ranges\n",
    "dist_range = np.arange(20, 55, 5)\n",
    "ratio_range = np.arange(.05, 1.05, .05)\n",
    "\n",
    "# intialize dicts for prop and cnts\n",
    "ny_pre_locals_prop, ny_post_locals_prop = {dist:[] for dist in dist_range}, {dist:[] for dist in dist_range} \n",
    "ny_pre_locals_cnt, ny_post_locals_cnt = {dist:[] for dist in dist_range}, {dist:[] for dist in dist_range}\n",
    "\n",
    "# iterate over all parameter tuples\n",
    "for dist in tqdm(dist_range):\n",
    "    for required_ratio in ratio_range:\n",
    "        # proportion of local articles \n",
    "        ny_pre_locals_prop[dist].append(periods2bool(ny_pre_distances, \n",
    "                                    lambda article: within_dist_prop(article, dist, required_ratio)))\n",
    "        ny_post_locals_prop[dist].append(periods2bool(ny_post_distances, \n",
    "                                    lambda article: within_dist_prop(article, dist, required_ratio)))\n",
    "\n",
    "        # number of local articles \n",
    "        ny_pre_locals_cnt[dist].append(periods2bool(ny_pre_distances, \n",
    "                            lambda article: within_dist_prop(article, dist, required_ratio), ratio=False))\n",
    "        ny_post_locals_cnt[dist].append(periods2bool(ny_post_distances, \n",
    "                            lambda article: within_dist_prop(article, dist, required_ratio), ratio=False))\n",
    "    \n",
    "    ny_pre_locals_prop[dist] = add_ratios(ny_pre_locals_prop[dist], ratio_range)\n",
    "    ny_post_locals_prop[dist] = add_ratios(ny_post_locals_prop[dist], ratio_range)\n",
    "    ny_pre_locals_cnt[dist] = add_ratios(ny_pre_locals_cnt[dist], ratio_range)\n",
    "    ny_post_locals_cnt[dist] = add_ratios(ny_post_locals_cnt[dist], ratio_range)"
   ]
  },
  {
   "cell_type": "code",
   "execution_count": 37,
   "metadata": {},
   "outputs": [],
   "source": [
    "pre_cnts = list(chain(*[[row[-2] \n",
    "        for row in list(chain(*ratios))] for dist, ratios in ny_pre_locals_cnt.items()]))\n",
    "post_cnts = list(chain(*[[row[-2] for row in list(chain(*ratios))] \n",
    "        for dist, ratios in ny_post_locals_cnt.items()]))"
   ]
  },
  {
   "cell_type": "code",
   "execution_count": 38,
   "metadata": {},
   "outputs": [
    {
     "name": "stdout",
     "output_type": "stream",
     "text": [
      "------ Counts ------\n",
      "Means:  50.848626373626374 37.605405405405406\n",
      "Significance test: MannwhitneyuResult(statistic=11997228.0, pvalue=1.5320351581490178e-263)\n",
      "%Δ: -0.2604440259784445\n"
     ]
    }
   ],
   "source": [
    "print('------ Counts ------')\n",
    "print('Means: ', np.mean(pre_cnts), np.mean(post_cnts))\n",
    "print('Significance test:', scipy.stats.mannwhitneyu(pre_cnts, post_cnts))\n",
    "print('%Δ:', (np.mean(post_cnts) - np.mean(pre_cnts))/np.mean(pre_cnts))"
   ]
  },
  {
   "cell_type": "code",
   "execution_count": 39,
   "metadata": {},
   "outputs": [],
   "source": [
    "pre_props = list(chain(*[[row[-2] \n",
    "            for row in list(chain(*ratios))] for dist, ratios in ny_pre_locals_prop.items()]))\n",
    "post_props = list(chain(*[[row[-2] \n",
    "            for row in list(chain(*ratios))] for dist, ratios in ny_post_locals_prop.items()]))"
   ]
  },
  {
   "cell_type": "code",
   "execution_count": 40,
   "metadata": {},
   "outputs": [
    {
     "name": "stdout",
     "output_type": "stream",
     "text": [
      "------ Proportions ------\n",
      "Means:  0.24300770085315204 0.26222343003826015\n",
      "Significance test: MannwhitneyuResult(statistic=17127040.0, pvalue=1.2390498154786374e-18)\n",
      "%Δ: 0.07907456890314785\n"
     ]
    }
   ],
   "source": [
    "print('------ Proportions ------')\n",
    "print('Means: ', np.mean(pre_props), np.mean(post_props))\n",
    "print('Significance test:', scipy.stats.mannwhitneyu(pre_props, post_props))\n",
    "print('%Δ:', (np.mean(post_props) - np.mean(pre_props))/np.mean(pre_props))"
   ]
  },
  {
   "cell_type": "code",
   "execution_count": 41,
   "metadata": {},
   "outputs": [],
   "source": [
    "proportions = [[p, 'pre'] for p in pre_props] + [[p, 'post'] for p in post_props] \n",
    "counts = [[p, 'pre'] for p in pre_cnts] + [[p, 'post'] for p in post_cnts] \n",
    "df_ny_prop = pd.DataFrame(proportions, columns=['num', 'period'])\n",
    "df_ny_cnts = pd.DataFrame(counts, columns=['num', 'period'])"
   ]
  },
  {
   "cell_type": "markdown",
   "metadata": {},
   "source": [
    "### DP"
   ]
  },
  {
   "cell_type": "code",
   "execution_count": 6,
   "metadata": {},
   "outputs": [],
   "source": [
    "with open('../data/places/dp/dp-weeks.p', 'rb') as f:\n",
    "    weeks = pickle.load(f)\n",
    "with open('../data/places/dp/dp-years.p', 'rb') as f:\n",
    "    years = pickle.load(f)"
   ]
  },
  {
   "cell_type": "code",
   "execution_count": 11,
   "metadata": {},
   "outputs": [],
   "source": [
    "from locality import within_dist_prop, get_dist, resolve\n",
    "from locality import add_ratios, periods2bool, within_dist_prop\n",
    "\n",
    "city_loc = queries[('Denver', 'CO')][0]['geometry']['location'].values()\n",
    "\n",
    "def article2distances(places, city_loc):\n",
    "    distances = []\n",
    "    for place in places:\n",
    "        if len(place['result']) > 1:\n",
    "            place = resolve(place, pub=pub)\n",
    "        place_loc = place['result'][0]['geometry']['location'].values()\n",
    "        distances.append(get_dist(place_loc, city_loc))\n",
    "    return distances\n",
    "\n",
    "def articles2distances(articles, city_loc):\n",
    "    return [[url, article2distances(article, city_loc(url))] for url, article in articles]\n",
    "\n",
    "def periods2distances(periods, city_loc):\n",
    "    ''' city_loc is a fct from url -> loc '''\n",
    "    return {date:articles2distances(articles, city_loc)\n",
    "                     for date, articles in periods.items() if len(articles) > 0}"
   ]
  },
  {
   "cell_type": "code",
   "execution_count": 8,
   "metadata": {},
   "outputs": [
    {
     "data": {
      "application/vnd.jupyter.widget-view+json": {
       "model_id": "ca5489bc102a4957825209ad9966faec",
       "version_major": 2,
       "version_minor": 0
      },
      "text/plain": [
       "HBox(children=(FloatProgress(value=0.0, max=12.0), HTML(value='')))"
      ]
     },
     "metadata": {},
     "output_type": "display_data"
    },
    {
     "name": "stdout",
     "output_type": "stream",
     "text": [
      "\n"
     ]
    }
   ],
   "source": [
    "# compute distances \n",
    "distances = {year : periods2distances(weeks, lambda x: city_loc) \n",
    "             for year, weeks in tqdm(years.items())}"
   ]
  },
  {
   "cell_type": "code",
   "execution_count": 12,
   "metadata": {},
   "outputs": [
    {
     "data": {
      "application/vnd.jupyter.widget-view+json": {
       "model_id": "d00ee7843c6445628d2de966cff1a4c0",
       "version_major": 2,
       "version_minor": 0
      },
      "text/plain": [
       "HBox(children=(FloatProgress(value=0.0, max=12.0), HTML(value='')))"
      ]
     },
     "metadata": {},
     "output_type": "display_data"
    },
    {
     "name": "stdout",
     "output_type": "stream",
     "text": [
      "\n"
     ]
    }
   ],
   "source": [
    "dist_range = np.arange(20, 55, 5)\n",
    "ratio_range = np.arange(.05, 1.05, .05)\n",
    "\n",
    "props = {year:{dist:{} for dist in dist_range} for year in range(2008,2020)}\n",
    "cnts =  {year:{dist:{} for dist in dist_range} for year in range(2008,2020)}\n",
    "\n",
    "for year, weeks in tqdm(distances.items()):\n",
    "    for dist in dist_range:\n",
    "        for required_ratio in ratio_range:\n",
    "            props[year][dist][required_ratio] = periods2bool(weeks, \n",
    "                                lambda article: within_dist_prop(article, dist, required_ratio))\n",
    "            cnts[year][dist][required_ratio] = periods2bool(weeks, \n",
    "                                lambda article: within_dist_prop(article, dist, required_ratio), ratio=False)"
   ]
  },
  {
   "cell_type": "code",
   "execution_count": 13,
   "metadata": {},
   "outputs": [],
   "source": [
    "yearly_cnts = []\n",
    "for year, dists in cnts.items():\n",
    "     for dist, ratios in dists.items():\n",
    "            for ratio, vals in ratios.items():\n",
    "                for val in vals:\n",
    "                    yearly_cnts.append([val[-1], year])\n",
    "yearly_props = [] \n",
    "for year, dists in props.items():\n",
    "     for dist, ratios in dists.items():\n",
    "            for ratio, vals in ratios.items():\n",
    "                for val in vals:\n",
    "                    yearly_props.append([val[-1], year])"
   ]
  },
  {
   "cell_type": "code",
   "execution_count": 14,
   "metadata": {},
   "outputs": [],
   "source": [
    "cnts_2011 = [c[0] for c in yearly_cnts if c[1] == 2011]\n",
    "cnts_2018 = [c[0] for c in yearly_cnts if c[1] == 2018]"
   ]
  },
  {
   "cell_type": "code",
   "execution_count": 15,
   "metadata": {},
   "outputs": [
    {
     "data": {
      "text/plain": [
       "-0.6814179739754347"
      ]
     },
     "execution_count": 15,
     "metadata": {},
     "output_type": "execute_result"
    }
   ],
   "source": [
    "(np.mean(cnts_2018) - np.mean(cnts_2011))/np.mean(cnts_2011)"
   ]
  },
  {
   "cell_type": "code",
   "execution_count": 47,
   "metadata": {},
   "outputs": [
    {
     "data": {
      "image/png": "[encoded data removed]",
      "text/plain": [
       "<Figure size 1296x432 with 3 Axes>"
      ]
     },
     "metadata": {
      "needs_background": "light"
     },
     "output_type": "display_data"
    }
   ],
   "source": [
    "import matplotlib.patches as patches\n",
    "from matplotlib.gridspec import GridSpec\n",
    "from mpl_toolkits.axes_grid1.inset_locator import inset_axes\n",
    "\n",
    "def change_width(ax, new_value):\n",
    "    for patch in ax.patches:\n",
    "        current_width = patch.get_width()\n",
    "        diff = current_width - new_value\n",
    "        patch.set_width(new_value)\n",
    "        patch.set_x(patch.get_x() + diff * .5)\n",
    "\n",
    "fig = plt.figure(figsize=(18, 6))\n",
    "gs=GridSpec(1,4)\n",
    "\n",
    "ax=fig.add_subplot(gs[0,0:2]) \n",
    "ax_la=fig.add_subplot(gs[0,2]) \n",
    "ax_ny=fig.add_subplot(gs[0,3]) \n",
    "\n",
    "cnt_df = pd.DataFrame(yearly_cnts, columns=['count','year'])\n",
    "prop_df = pd.DataFrame(yearly_props, columns=['prop','year'])    \n",
    "\n",
    "ax.axvline(x=2010, color='silver', linestyle='--', alpha=0.5)\n",
    "ax = sns.lineplot(x=\"year\", \n",
    "                  y=\"count\", \n",
    "                  data=cnt_df, \n",
    "                  color='b', \n",
    "                  ci=95,\n",
    "                  ax=ax,\n",
    "                  marker='o')\n",
    "    \n",
    "ax.set_ylim(10, 49)\n",
    "style = \"Simple, tail_width=0.5, head_width=4, head_length=8\"\n",
    "kw = dict(arrowstyle=style, color=\"silver\", alpha=0.75)\n",
    "\n",
    "a1 = patches.FancyArrowPatch((2011, 42.5), (2011.9, 28), connectionstyle=\"arc3,rad=.1\", **kw)\n",
    "a2 = patches.FancyArrowPatch((2017.8, 14.5), (2012.1, 26), connectionstyle=\"arc3,rad=-.3\", **kw)\n",
    "fig.text(0.23, 0.485, '%$\\Delta = -68$', color='grey', weight='roman', ha='center', size=17)\n",
    "ax.add_patch(a1)\n",
    "ax.add_patch(a2)\n",
    "#ax2.set_ylabel('Mean prop. local\\n articles per week', size=14)\n",
    "#ax2.set_xlabel('Year of publication', size=15)\n",
    "ax.set_xlabel('Year of publication', size=20)\n",
    "ax.set_ylabel('Mean number of local \\n articles per week', size=23)\n",
    "\n",
    "ax_la = sns.barplot(x=\"Period\", y=\"num\", data=df_la_cnts, color='b',\n",
    "                       ci=95,\n",
    "                       ax=ax_la, alpha=.5, capsize=.05)\n",
    "ax_la.set_xticklabels(['Pre Acquisition','Post Acquisition'], size = 14)\n",
    "\n",
    "ax_la.set_ylim(15, 40)\n",
    "\n",
    "change_width(ax_la, .35)\n",
    "ax_la.set_ylabel(' ')\n",
    "ax_la.set_xlabel(' ')\n",
    "\n",
    "\n",
    "df = pd.read_csv('ny-cnts-week.csv')\n",
    "ax_ny = sns.barplot(x=\"Period\", y=\"num\", data=df, color='b',\n",
    "                       ci=95,\n",
    "                       ax=ax_ny, alpha=.5, capsize=.05)\n",
    "ax_ny.set_xticklabels(['Pre Acquisition','Post Acquisition'], size = 14)\n",
    "ax_ny.set_ylim(25, 55)\n",
    "change_width(ax_ny, .35)\n",
    "#change_width(ax3, .35)\n",
    "ax_ny.set_ylabel(' ')\n",
    "ax_ny.set_xlabel('Period', size=23)\n",
    "ax_la.set_xlabel('Period', size=23)\n",
    "\n",
    "fig.tight_layout()\n",
    "plt.savefig('absolute-local-three.png', dpi=300)"
   ]
  },
  {
   "cell_type": "code",
   "execution_count": 46,
   "metadata": {},
   "outputs": [
    {
     "data": {
      "image/png": "[encoded data removed]",
      "text/plain": [
       "<Figure size 1296x432 with 3 Axes>"
      ]
     },
     "metadata": {
      "needs_background": "light"
     },
     "output_type": "display_data"
    }
   ],
   "source": [
    "import matplotlib.patches as patches\n",
    "from matplotlib.gridspec import GridSpec\n",
    "from mpl_toolkits.axes_grid1.inset_locator import inset_axes\n",
    "\n",
    "def change_width(ax, new_value):\n",
    "    for patch in ax.patches:\n",
    "        current_width = patch.get_width()\n",
    "        diff = current_width - new_value\n",
    "        patch.set_width(new_value)\n",
    "        patch.set_x(patch.get_x() + diff * .5)\n",
    "\n",
    "fig = plt.figure(figsize=(18, 6))\n",
    "gs=GridSpec(1,4)\n",
    "\n",
    "ax=fig.add_subplot(gs[0,0:2]) \n",
    "ax_la=fig.add_subplot(gs[0,2]) \n",
    "ax_ny=fig.add_subplot(gs[0,3]) \n",
    "\n",
    "cnt_df = pd.DataFrame(yearly_cnts, columns=['count','year'])\n",
    "prop_df = pd.DataFrame(yearly_props, columns=['prop','year'])    \n",
    "\n",
    "ax.axvline(x=2010, color='silver', linestyle='--', alpha=0.5)\n",
    "ax = sns.lineplot(x=\"year\", \n",
    "                  y=\"prop\", \n",
    "                  data=prop_df, \n",
    "                  color=sns.color_palette('Purples')[-1], \n",
    "                  ci=95,\n",
    "                  ax=ax,\n",
    "                  marker='o')\n",
    "    \n",
    "ax.set_ylim(0.1, .3)\n",
    "style = \"Simple, tail_width=0.5, head_width=4, head_length=8\"\n",
    "kw = dict(arrowstyle=style, color=\"silver\", alpha=0.75)\n",
    "\n",
    "#a1 = patches.FancyArrowPatch((2011, 42.5), (2011.9, 28), connectionstyle=\"arc3,rad=.1\", **kw)\n",
    "#a2 = patches.FancyArrowPatch((2017.8, 14.5), (2012.1, 26), connectionstyle=\"arc3,rad=-.3\", **kw)\n",
    "#fig.text(0.23, 0.485, '%$\\Delta = -67$', color='grey', weight='roman', ha='center', size=17)\n",
    "#ax.add_patch(a1)\n",
    "#ax.add_patch(a2)\n",
    "#ax2.set_ylabel('Mean prop. local\\n articles per week', size=14)\n",
    "#ax2.set_xlabel('Year of publication', size=15)\n",
    "ax.set_xlabel('Year of publication', size=20)\n",
    "ax.set_ylabel('Mean proportion of local \\n articles per week', size=23)\n",
    "\n",
    "ax_la = sns.barplot(x=\"Period\", y=\"num\", data=df_la_prop, color=sns.color_palette('Purples')[-1],\n",
    "                       ci=95,\n",
    "                       ax=ax_la, alpha=.5, capsize=.05)\n",
    "ax_la.set_xticklabels(['Pre Acquisition','Post Acquisition'], size = 14)\n",
    "\n",
    "ax_la.set_ylim(0, .55)\n",
    "\n",
    "change_width(ax_la, .35)\n",
    "ax_la.set_ylabel(' ')\n",
    "ax_la.set_xlabel(' ')\n",
    "\n",
    "\n",
    "df = pd.read_csv('ny-props-week.csv')\n",
    "ax_ny = sns.barplot(x=\"Period\", y=\"num\", data=df, color=sns.color_palette('Purples')[-1],\n",
    "                       ci=95,\n",
    "                       ax=ax_ny, alpha=.5, capsize=.05)\n",
    "ax_ny.set_xticklabels(['Pre Acquisition','Post Acquisition'], size = 14)\n",
    "ax_ny.set_ylim(0, .55)\n",
    "change_width(ax_ny, .35)\n",
    "#change_width(ax3, .35)\n",
    "ax_ny.set_ylabel(' ')\n",
    "ax_ny.set_xlabel('Period', size=23)\n",
    "ax_la.set_xlabel('Period', size=23)\n",
    "\n",
    "fig.tight_layout()\n",
    "plt.savefig('relative-local-three.png', dpi=300)"
   ]
  },
  {
   "cell_type": "markdown",
   "metadata": {},
   "source": [
    "### DFM California (a.k.a MNG)"
   ]
  },
  {
   "cell_type": "code",
   "execution_count": 8,
   "metadata": {},
   "outputs": [],
   "source": [
    "# load DFM data\n",
    "with open('../data/places/dfm/shared-weeks-cut.p', 'rb') as f:\n",
    "    s_weeks = pickle.load(f)\n",
    "with open('../data/places/dfm/nonshared-weeks-cut.p', 'rb') as f:\n",
    "    ns_weeks = pickle.load(f)"
   ]
  },
  {
   "cell_type": "code",
   "execution_count": 9,
   "metadata": {},
   "outputs": [],
   "source": [
    "all_s_urls = [[a[0].split('/')[2] for a in articles] for period, articles in s_weeks.items()]\n",
    "all_ns_urls = [[a[0].split('/')[2] for a in articles] for period, articles in ns_weeks.items()]\n",
    "all_urls =  np.unique(list(chain(*all_s_urls))+list(chain(*all_ns_urls)))"
   ]
  },
  {
   "cell_type": "code",
   "execution_count": 14,
   "metadata": {},
   "outputs": [],
   "source": [
    "cities = np.unique([get_city(pub2loc[url]) for url in all_urls])"
   ]
  },
  {
   "cell_type": "code",
   "execution_count": 15,
   "metadata": {},
   "outputs": [],
   "source": [
    "city2loc = {city: queries[(city, 'CA')][0]['geometry']['location'].values() for city in cities}"
   ]
  },
  {
   "cell_type": "code",
   "execution_count": 16,
   "metadata": {},
   "outputs": [],
   "source": [
    "from locality import within_dist_prop, get_dist, periods2distances\n",
    "s_distances = periods2distances(s_weeks, lambda url: city2loc[get_city(pub2loc[url.split('/')[2]])])\n",
    "ns_distances = periods2distances(ns_weeks, lambda url: city2loc[get_city(pub2loc[url.split('/')[2]])])"
   ]
  },
  {
   "cell_type": "code",
   "execution_count": 14,
   "metadata": {},
   "outputs": [
    {
     "data": {
      "application/vnd.jupyter.widget-view+json": {
       "model_id": "b6d9a82f098b46a0a5ee745e45c45ce4",
       "version_major": 2,
       "version_minor": 0
      },
      "text/plain": [
       "HBox(children=(FloatProgress(value=0.0, max=6.0), HTML(value='')))"
      ]
     },
     "metadata": {},
     "output_type": "display_data"
    },
    {
     "name": "stdout",
     "output_type": "stream",
     "text": [
      "\n"
     ]
    }
   ],
   "source": [
    "from locality import add_ratios, periods2bool\n",
    "dist_range = np.arange(25, 55, 5)\n",
    "ratio_range = np.arange(.05, 1.05, .05)\n",
    "\n",
    "# we are only computing proportions since we did not sample uniformly\n",
    "s_locals_prop, ns_locals_prop = {dist:[] for dist in dist_range}, {dist:[] for dist in dist_range} \n",
    "\n",
    "for dist in tqdm(dist_range):\n",
    "    for required_ratio in ratio_range:\n",
    "        # proportion of local articles \n",
    "        s_locals_prop[dist].append(periods2bool(s_distances, \n",
    "                                    lambda article: within_dist_prop(article, dist, required_ratio)))\n",
    "        ns_locals_prop[dist].append(periods2bool(ns_distances, \n",
    "                                    lambda article: within_dist_prop(article, dist, required_ratio)))\n",
    "\n",
    "    s_locals_prop[dist] = add_ratios(s_locals_prop[dist], ratio_range)\n",
    "    ns_locals_prop[dist] = add_ratios(ns_locals_prop[dist], ratio_range)"
   ]
  },
  {
   "cell_type": "code",
   "execution_count": 15,
   "metadata": {},
   "outputs": [],
   "source": [
    "from utils import add_distances\n",
    "s_locals_prop = add_distances(s_locals_prop)\n",
    "ns_locals_prop = add_distances(ns_locals_prop)\n",
    "\n",
    "shared_props = list(chain(*[list(chain(*[[w[1] for w in weeks] for weeks in ratios])) \n",
    "                      for dist, ratios in s_locals_prop.items()]))\n",
    "non_shared_props = list(chain(*[list(chain(*[[w[1] for w in weeks] for weeks in ratios])) \n",
    "                      for dist, ratios in ns_locals_prop.items()]))"
   ]
  },
  {
   "cell_type": "code",
   "execution_count": 16,
   "metadata": {},
   "outputs": [
    {
     "name": "stdout",
     "output_type": "stream",
     "text": [
      "Mean:  0.13903273262120433 0.47370838813423266\n"
     ]
    }
   ],
   "source": [
    "print('Mean: ', np.mean(shared_props), np.mean(non_shared_props))"
   ]
  },
  {
   "cell_type": "code",
   "execution_count": null,
   "metadata": {},
   "outputs": [],
   "source": [
    "def change_width(ax, new_value):\n",
    "    for patch in ax.patches:\n",
    "        current_width = patch.get_width()\n",
    "        diff = current_width - new_value\n",
    "        patch.set_width(new_value)\n",
    "        patch.set_x(patch.get_x() + diff * .5)"
   ]
  },
  {
   "cell_type": "code",
   "execution_count": 20,
   "metadata": {},
   "outputs": [
    {
     "data": {
      "image/png": "[encoded data removed]",
      "text/plain": [
       "<Figure size 432x288 with 1 Axes>"
      ]
     },
     "metadata": {
      "needs_background": "light"
     },
     "output_type": "display_data"
    }
   ],
   "source": [
    "fig = plt.figure()\n",
    "data = pd.DataFrame([[x, 'shared'] for x in shared_props] + [[x, 'non-shared'] for x in non_shared_props],\n",
    "                    columns=['proportion', 'class'])\n",
    "ax = sns.barplot(x=\"class\", y=\"proportion\", data=data, color=sns.color_palette('Purples')[-1],\n",
    "                       ci=95, alpha=.5, capsize=.05)\n",
    "ax.set_xticklabels(['Shared Articles','Non-shared Articles'], size=14)\n",
    "change_width(ax, .35)\n",
    "ax.set_ylabel('Mean proportion of \\n local articles per week', size=14)\n",
    "ax.set_xlabel('Article Type', size=14)\n",
    "fig.tight_layout()\n",
    "#plt.savefig('mng-local-content.png', dpi=300)"
   ]
  },
  {
   "cell_type": "code",
   "execution_count": null,
   "metadata": {},
   "outputs": [],
   "source": []
  }
 ],
 "metadata": {
  "kernelspec": {
   "display_name": "Python 3",
   "language": "python",
   "name": "python3"
  },
  "language_info": {
   "codemirror_mode": {
    "name": "ipython",
    "version": 3
   },
   "file_extension": ".py",
   "mimetype": "text/x-python",
   "name": "python",
   "nbconvert_exporter": "python",
   "pygments_lexer": "ipython3",
   "version": "3.7.6"
  }
 },
 "nbformat": 4,
 "nbformat_minor": 4
}

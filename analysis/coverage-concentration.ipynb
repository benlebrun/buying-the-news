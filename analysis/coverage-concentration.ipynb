{
 "cells": [
  {
   "cell_type": "code",
   "execution_count": 1,
   "metadata": {},
   "outputs": [],
   "source": [
    "import pandas as pd\n",
    "import numpy as np\n",
    "import os\n",
    "import pickle\n",
    "from tqdm.notebook import tqdm\n",
    "from datetime import datetime\n",
    "import matplotlib.pyplot as plt\n",
    "from itertools import chain"
   ]
  },
  {
   "cell_type": "code",
   "execution_count": 2,
   "metadata": {},
   "outputs": [],
   "source": [
    "from scipy.stats import ttest_ind\n",
    "import math\n",
    " \n",
    "# function to calculate Cohen's d for independent samples\n",
    "def cohend(d1, d2):\n",
    "    n1, n2 = len(d1), len(d2)\n",
    "    s1, s2 = np.var(d1, ddof=1), np.var(d2, ddof=1)\n",
    "    s = math.sqrt(((n1 - 1) * s1 + (n2 - 1) * s2) / (n1 + n2 - 2))\n",
    "    u1, u2 = np.mean(d1), np.mean(d2)\n",
    "    return (u1 - u2) / s"
   ]
  },
  {
   "cell_type": "code",
   "execution_count": 3,
   "metadata": {},
   "outputs": [],
   "source": [
    "from scipy.stats import entropy\n",
    "from collections import Counter\n",
    "\n",
    "# functions to compute entropy \n",
    "\n",
    "def to_pmf(outcomes):\n",
    "    ''' outcomes -> probability mass function '''\n",
    "    cnts=Counter(outcomes)\n",
    "    return np.asarray(list(cnts.values()))/sum(cnts.values())\n",
    "\n",
    "def week2places(week):\n",
    "    return list(chain(*[places for url, places in week]))\n",
    "\n",
    "def places2ids(places):\n",
    "    return [place['result'][0]['place_id'] for place in places]\n",
    "\n",
    "def get_level_entropy(periods, level):\n",
    "    return [entropy(to_pmf(places2ids(places2levels(week2places(week))[level]))) for date, week in periods.items()]"
   ]
  },
  {
   "cell_type": "markdown",
   "metadata": {},
   "source": [
    "### LA Weekly"
   ]
  },
  {
   "cell_type": "code",
   "execution_count": 4,
   "metadata": {},
   "outputs": [
    {
     "name": "stderr",
     "output_type": "stream",
     "text": [
      "/Users/benlebrun/opt/anaconda3/lib/python3.7/site-packages/requests/__init__.py:91: RequestsDependencyWarning: urllib3 (1.26.4) or chardet (3.0.4) doesn't match a supported version!\n",
      "  RequestsDependencyWarning)\n"
     ]
    }
   ],
   "source": [
    "from locality import get_state, get_country, get_city, get_county\n",
    "\n",
    "def place2level(place):    \n",
    "    if get_country(place['result'][0]) != 'US':\n",
    "        return 'international'\n",
    "    elif get_state(place['result'][0]) != 'CA':\n",
    "        return 'national'\n",
    "    elif get_county(place['result'][0]) != 'Los Angeles County':\n",
    "        return 'state'\n",
    "    elif get_city(place['result'][0]) != 'Los Angeles':\n",
    "        return 'county'\n",
    "    else:\n",
    "        return 'city'\n",
    "    \n",
    "def places2levels(places):\n",
    "    levels = {'city':[], 'state':[], 'county':[], 'national':[], 'international':[]}\n",
    "    for place in places:\n",
    "        levels[place2level(place)].append(place)\n",
    "    return levels"
   ]
  },
  {
   "cell_type": "code",
   "execution_count": 5,
   "metadata": {},
   "outputs": [],
   "source": [
    "# load LAW data \n",
    "with open('../data/places/la/pre-weeks.p', 'rb') as f:\n",
    "    pre_weeks_la = pickle.load(f)\n",
    "with open('../data/places/la/post-weeks.p', 'rb') as f:\n",
    "    post_weeks_la = pickle.load(f)\n",
    "# load LAW data (pandemic cut out of data)\n",
    "with open('../data/places/la/pre-weeks-cut.p', 'rb') as f:\n",
    "    pre_weeks_la = pickle.load(f)\n",
    "with open('../data/places/la/post-weeks-cut.p', 'rb') as f:\n",
    "    post_weeks_la = pickle.load(f)"
   ]
  },
  {
   "cell_type": "code",
   "execution_count": 7,
   "metadata": {},
   "outputs": [
    {
     "name": "stdout",
     "output_type": "stream",
     "text": [
      "Mean:  2.0007712531125437 1.7694983247270761\n",
      "p =  1.2177149909157597e-06\n",
      "d =  0.7446916957436505\n"
     ]
    }
   ],
   "source": [
    "pre_ent = get_level_entropy(pre_weeks_la, 'city')\n",
    "post_ent = get_level_entropy(post_weeks_la, 'city')\n",
    "print('Mean: ', np.mean(pre_ent), np.mean(post_ent))\n",
    "print('p = ', ttest_ind(pre_ent, post_ent).pvalue)\n",
    "print('d = ', cohend(pre_ent, post_ent))"
   ]
  },
  {
   "cell_type": "code",
   "execution_count": 8,
   "metadata": {},
   "outputs": [
    {
     "name": "stdout",
     "output_type": "stream",
     "text": [
      "Mean:  3.331429123788766 2.8616725693361222\n",
      "p =  2.6833126297077402e-20\n",
      "d =  1.5501997377023495\n"
     ]
    }
   ],
   "source": [
    "pre_ent = get_level_entropy(pre_weeks_la, 'county')\n",
    "post_ent = get_level_entropy(post_weeks_la, 'county')\n",
    "print('Mean: ', np.mean(pre_ent), np.mean(post_ent))\n",
    "print('p = ', ttest_ind(pre_ent, post_ent).pvalue)\n",
    "print('d = ', cohend(pre_ent, post_ent))"
   ]
  },
  {
   "cell_type": "code",
   "execution_count": 9,
   "metadata": {},
   "outputs": [
    {
     "name": "stdout",
     "output_type": "stream",
     "text": [
      "Mean:  3.3112008884654767 2.9967594215711366\n",
      "p =  1.2175770759689936e-08\n",
      "d =  0.8854853662888852\n"
     ]
    }
   ],
   "source": [
    "pre_ent = get_level_entropy(pre_weeks_la, 'state')\n",
    "post_ent = get_level_entropy(post_weeks_la, 'state')\n",
    "print('Mean: ', np.mean(pre_ent), np.mean(post_ent))\n",
    "print('p = ', ttest_ind(pre_ent, post_ent).pvalue)\n",
    "print('d = ', cohend(pre_ent, post_ent))"
   ]
  },
  {
   "cell_type": "code",
   "execution_count": 10,
   "metadata": {},
   "outputs": [
    {
     "name": "stdout",
     "output_type": "stream",
     "text": [
      "Mean:  3.305327241097732 3.0623318212407766\n",
      "p =  4.778646604791987e-08\n",
      "d =  0.8452923525981363\n"
     ]
    }
   ],
   "source": [
    "pre_ent = get_level_entropy(pre_weeks_la, 'national')\n",
    "post_ent = get_level_entropy(post_weeks_la, 'national')\n",
    "print('Mean: ', np.mean(pre_ent), np.mean(post_ent))\n",
    "print('p = ', ttest_ind(pre_ent, post_ent).pvalue)\n",
    "print('d = ', cohend(pre_ent, post_ent))"
   ]
  },
  {
   "cell_type": "code",
   "execution_count": 11,
   "metadata": {},
   "outputs": [
    {
     "name": "stdout",
     "output_type": "stream",
     "text": [
      "Mean:  3.6409741628808296 3.2029497937865647\n",
      "p =  3.634353177769013e-17\n",
      "d =  1.3849552117131048\n"
     ]
    }
   ],
   "source": [
    "pre_ent = get_level_entropy(pre_weeks_la, 'international')\n",
    "post_ent = get_level_entropy(post_weeks_la, 'international')\n",
    "print('Mean: ', np.mean(pre_ent), np.mean(post_ent))\n",
    "print('p = ', ttest_ind(pre_ent, post_ent).pvalue)\n",
    "print('d = ', cohend(pre_ent, post_ent))"
   ]
  },
  {
   "cell_type": "markdown",
   "metadata": {},
   "source": [
    "### NYD News"
   ]
  },
  {
   "cell_type": "code",
   "execution_count": 37,
   "metadata": {},
   "outputs": [],
   "source": [
    "from locality import get_state, get_country, get_city\n",
    "def place2level(place):    \n",
    "    if get_country(place['result'][0]) != 'US':\n",
    "        return 'international'\n",
    "    elif get_state(place['result'][0]) != 'NY':\n",
    "        return 'national'\n",
    "    elif get_sublocality(place['result'][0]) not in ['Staten Island', 'Manhattan','Brooklyn','The Bronx', 'Queens'] \\\n",
    "        and get_city(place['result'][0]) != 'New York':\n",
    "        return 'state'\n",
    "    else:\n",
    "        return 'city'\n",
    "    \n",
    "def get_sublocality(result):\n",
    "    try:\n",
    "        return [part['short_name'] for part in result['address_components'] \n",
    "                    if part['types'] == ['political', 'sublocality', 'sublocality_level_1']][0]\n",
    "    except IndexError:\n",
    "        return -1"
   ]
  },
  {
   "cell_type": "code",
   "execution_count": 23,
   "metadata": {},
   "outputs": [],
   "source": [
    "# load NYD data\n",
    "with open('../data/places/ny/pre-weeks.p', 'rb') as f:\n",
    "    ny_pre_weeks = pickle.load(f)\n",
    "# note that there are less post-weeks because of a suspicious trend in the data\n",
    "with open('../data/places/ny/post-weeks.p', 'rb') as f:\n",
    "    ny_post_weeks = pickle.load(f)"
   ]
  },
  {
   "cell_type": "code",
   "execution_count": 33,
   "metadata": {},
   "outputs": [
    {
     "name": "stdout",
     "output_type": "stream",
     "text": [
      "Mean:  2.7505274931504546 2.6164214183735264\n",
      "p =  0.0011431258972135505\n",
      "d =  0.7235798018935462\n"
     ]
    }
   ],
   "source": [
    "pre_ent = get_level_entropy(ny_pre_weeks, 'city')\n",
    "post_ent = get_level_entropy(ny_post_weeks, 'city')\n",
    "print('Mean: ', np.mean(pre_ent), np.mean(post_ent))\n",
    "print('p = ', ttest_ind(pre_ent, post_ent).pvalue)\n",
    "print('d = ', cohend(pre_ent, post_ent))"
   ]
  },
  {
   "cell_type": "code",
   "execution_count": 41,
   "metadata": {},
   "outputs": [
    {
     "name": "stdout",
     "output_type": "stream",
     "text": [
      "Mean:  3.005360481807581 2.7555375178782264\n",
      "p =  2.043870752289193e-05\n",
      "d =  0.9691855950728786\n"
     ]
    }
   ],
   "source": [
    "pre_ent = get_level_entropy(ny_pre_weeks, 'state')\n",
    "post_ent = get_level_entropy(ny_post_weeks, 'state')\n",
    "print('Mean: ', np.mean(pre_ent), np.mean(post_ent))\n",
    "print('p = ', ttest_ind(pre_ent, post_ent).pvalue)\n",
    "print('d = ', cohend(pre_ent, post_ent))"
   ]
  },
  {
   "cell_type": "code",
   "execution_count": 42,
   "metadata": {},
   "outputs": [
    {
     "name": "stdout",
     "output_type": "stream",
     "text": [
      "Mean:  4.225163448941176 4.190187350146722\n",
      "p =  0.2921114750898629\n",
      "d =  0.2279651889653511\n"
     ]
    }
   ],
   "source": [
    "pre_ent = get_level_entropy(ny_pre_weeks, 'national')\n",
    "post_ent = get_level_entropy(ny_post_weeks, 'national')\n",
    "print('Mean: ', np.mean(pre_ent), np.mean(post_ent))\n",
    "print('p = ', ttest_ind(pre_ent, post_ent).pvalue)\n",
    "print('d = ', cohend(pre_ent, post_ent))"
   ]
  },
  {
   "cell_type": "code",
   "execution_count": 43,
   "metadata": {},
   "outputs": [
    {
     "name": "stdout",
     "output_type": "stream",
     "text": [
      "Mean:  3.9332173072771868 3.794223233292792\n",
      "p =  0.020751912941460844\n",
      "d =  0.5065893342853787\n"
     ]
    }
   ],
   "source": [
    "pre_ent = get_level_entropy(ny_pre_weeks, 'international')\n",
    "post_ent = get_level_entropy(ny_post_weeks, 'international')\n",
    "print('Mean: ', np.mean(pre_ent), np.mean(post_ent))\n",
    "print('p = ', ttest_ind(pre_ent, post_ent).pvalue)\n",
    "print('d = ', cohend(pre_ent, post_ent))"
   ]
  },
  {
   "cell_type": "markdown",
   "metadata": {},
   "source": [
    "### DFM"
   ]
  },
  {
   "cell_type": "code",
   "execution_count": 44,
   "metadata": {},
   "outputs": [],
   "source": [
    "with open('../analysis/pub2loc.p', 'rb') as f:\n",
    "    pub2loc = pickle.load(f)"
   ]
  },
  {
   "cell_type": "code",
   "execution_count": 65,
   "metadata": {},
   "outputs": [],
   "source": [
    "# load DFM data\n",
    "with open('../data/places/dfm/shared-weeks.p', 'rb') as f:\n",
    "    s_weeks = pickle.load(f)\n",
    "with open('../data/places/dfm/nonshared-weeks.p', 'rb') as f:\n",
    "    ns_weeks = pickle.load(f)"
   ]
  },
  {
   "cell_type": "code",
   "execution_count": 66,
   "metadata": {},
   "outputs": [],
   "source": [
    "def place2level(place, url):    \n",
    "    if get_country(place['result'][0]) != 'US':\n",
    "        return 'international'\n",
    "    elif get_state(place['result'][0]) != 'CA':\n",
    "        return 'national'\n",
    "    elif get_county(place['result'][0]) != get_county(pub2loc[url.split('/')[2]]):\n",
    "        return 'state'\n",
    "    elif get_city(place['result'][0]) != get_city(pub2loc[url.split('/')[2]]):\n",
    "        return 'county'\n",
    "    else:\n",
    "        return 'city'\n",
    "    \n",
    "def week2places(week):\n",
    "    return list(chain(*[[[url, place] for place in places] for url, places in week]))\n",
    "\n",
    "def places2levels(places):\n",
    "    levels = {'city':[], 'state':[], 'county':[], 'national':[], 'international':[]}\n",
    "    for url, place in places:\n",
    "        levels[place2level(place, url)].append(place)\n",
    "    return levels\n",
    "\n",
    "def places2ids(places):\n",
    "    return [place['result'][0]['place_id'] for place in places]\n",
    "    \n",
    "def get_level_entropy(periods, level):\n",
    "    return [entropy(to_pmf(places2ids(places2levels(week2places(week))[level]))) for date, week in periods.items()]"
   ]
  },
  {
   "cell_type": "code",
   "execution_count": 67,
   "metadata": {},
   "outputs": [
    {
     "name": "stdout",
     "output_type": "stream",
     "text": [
      "Mean:  2.2683161527616877 2.8028381273443026\n",
      "p =  2.1012977301002142e-11\n",
      "d =  -1.4767016950608682\n"
     ]
    }
   ],
   "source": [
    "pre_ent = get_level_entropy(s_weeks, 'city')\n",
    "post_ent = get_level_entropy(ns_weeks, 'city')\n",
    "print('Mean: ', np.mean(pre_ent), np.mean(post_ent))\n",
    "print('p = ', ttest_ind(pre_ent, post_ent).pvalue)\n",
    "print('d = ', cohend(pre_ent, post_ent))"
   ]
  },
  {
   "cell_type": "code",
   "execution_count": 69,
   "metadata": {},
   "outputs": [
    {
     "name": "stdout",
     "output_type": "stream",
     "text": [
      "Mean:  3.5704240195265617 3.9837220824943933\n",
      "p =  2.5819344236103666e-08\n",
      "d =  -1.1836417756007849\n"
     ]
    }
   ],
   "source": [
    "pre_ent = get_level_entropy(s_weeks, 'county')\n",
    "post_ent = get_level_entropy(ns_weeks, 'county')\n",
    "print('Mean: ', np.mean(pre_ent), np.mean(post_ent))\n",
    "print('p = ', ttest_ind(pre_ent, post_ent).pvalue)\n",
    "print('d = ', cohend(pre_ent, post_ent))"
   ]
  },
  {
   "cell_type": "code",
   "execution_count": 70,
   "metadata": {},
   "outputs": [
    {
     "name": "stdout",
     "output_type": "stream",
     "text": [
      "Mean:  3.921719889034378 4.042494400187852\n",
      "p =  0.11060910494614716\n",
      "d =  -0.3156387642747657\n"
     ]
    }
   ],
   "source": [
    "pre_ent = get_level_entropy(s_weeks, 'state')\n",
    "post_ent = get_level_entropy(ns_weeks, 'state')\n",
    "print('Mean: ', np.mean(pre_ent), np.mean(post_ent))\n",
    "print('p = ', ttest_ind(pre_ent, post_ent).pvalue)\n",
    "print('d = ', cohend(pre_ent, post_ent))"
   ]
  },
  {
   "cell_type": "code",
   "execution_count": 71,
   "metadata": {},
   "outputs": [
    {
     "name": "stdout",
     "output_type": "stream",
     "text": [
      "Mean:  3.8766888728319766 3.4083527918383\n",
      "p =  9.712958169973099e-11\n",
      "d =  1.4153454245289816\n"
     ]
    }
   ],
   "source": [
    "pre_ent = get_level_entropy(s_weeks, 'national')\n",
    "post_ent = get_level_entropy(ns_weeks, 'national')\n",
    "print('Mean: ', np.mean(pre_ent), np.mean(post_ent))\n",
    "print('p = ', ttest_ind(pre_ent, post_ent).pvalue)\n",
    "print('d = ', cohend(pre_ent, post_ent))"
   ]
  },
  {
   "cell_type": "code",
   "execution_count": 72,
   "metadata": {},
   "outputs": [
    {
     "name": "stdout",
     "output_type": "stream",
     "text": [
      "Mean:  3.6955348860132307 3.1031543357917335\n",
      "p =  1.7162453957350754e-08\n",
      "d =  1.2011463667626334\n"
     ]
    }
   ],
   "source": [
    "pre_ent = get_level_entropy(s_weeks, 'international')\n",
    "post_ent = get_level_entropy(ns_weeks, 'international')\n",
    "print('Mean: ', np.mean(pre_ent), np.mean(post_ent))\n",
    "print('p = ', ttest_ind(pre_ent, post_ent).pvalue)\n",
    "print('d = ', cohend(pre_ent, post_ent))"
   ]
  },
  {
   "cell_type": "markdown",
   "metadata": {},
   "source": [
    "## DP"
   ]
  },
  {
   "cell_type": "code",
   "execution_count": 8,
   "metadata": {},
   "outputs": [],
   "source": [
    "with open('../data/places/dp/dp-weeks.p', 'rb') as f:\n",
    "    weeks = pickle.load(f)\n",
    "with open('../data/places/dp/dp-years.p', 'rb') as f:\n",
    "    years = pickle.load(f)"
   ]
  },
  {
   "cell_type": "code",
   "execution_count": 9,
   "metadata": {},
   "outputs": [
    {
     "data": {
      "text/plain": [
       "(626, 12)"
      ]
     },
     "execution_count": 9,
     "metadata": {},
     "output_type": "execute_result"
    }
   ],
   "source": [
    "len(weeks), len(years)"
   ]
  },
  {
   "cell_type": "code",
   "execution_count": 10,
   "metadata": {},
   "outputs": [
    {
     "name": "stderr",
     "output_type": "stream",
     "text": [
      "/Users/benlebrun/opt/anaconda3/lib/python3.7/site-packages/requests/__init__.py:91: RequestsDependencyWarning: urllib3 (1.26.4) or chardet (3.0.4) doesn't match a supported version!\n",
      "  RequestsDependencyWarning)\n"
     ]
    }
   ],
   "source": [
    "from locality import (get_state, get_country, get_city, \n",
    "                      get_county, resolve, places2ids, \n",
    "                      places2coords, week2places, places2levels, \n",
    "                      places2ids, get_level_entropy, get_level_mass)\n",
    "\n",
    "def place2level(place):    \n",
    "    if get_country(place['result'][0]) != 'US':\n",
    "        return 'international'\n",
    "    elif get_state(place['result'][0]) != 'CO':\n",
    "        return 'national'\n",
    "    elif get_county(place['result'][0]) != 'Denver County':\n",
    "        return 'state'\n",
    "    elif get_city(place['result'][0]) != 'Denver':\n",
    "        return 'county'\n",
    "    else:\n",
    "        return 'city'\n",
    "levels = ['city','county', 'state', 'national', 'international']"
   ]
  },
  {
   "cell_type": "code",
   "execution_count": 11,
   "metadata": {},
   "outputs": [],
   "source": [
    "entropy = {level:{year: dict(zip(weeks, get_level_entropy(weeks,level,place2level))) \n",
    "                          for year, weeks in years.items()} for level in levels}"
   ]
  },
  {
   "cell_type": "code",
   "execution_count": 12,
   "metadata": {},
   "outputs": [],
   "source": [
    "import matplotlib.pyplot as plt\n",
    "import seaborn as sns\n",
    "from scipy import stats\n",
    "from datetime import timedelta"
   ]
  },
  {
   "cell_type": "code",
   "execution_count": 17,
   "metadata": {},
   "outputs": [
    {
     "data": {
      "image/png": "[encoded data removed]",
      "text/plain": [
       "<Figure size 576x432 with 1 Axes>"
      ]
     },
     "metadata": {
      "needs_background": "light"
     },
     "output_type": "display_data"
    }
   ],
   "source": [
    "fig, ax = plt.subplots(figsize=(8,6))\n",
    "\n",
    "def to_list(entropy_vals):   \n",
    "    ents = []\n",
    "    for year, weeks in entropy_vals.items():\n",
    "        for week, ent in weeks.items():\n",
    "            ents.append([(week - datetime(2008,1,1)).days, ent])\n",
    "    return ents\n",
    "\n",
    "data = pd.DataFrame(to_list(entropy['city']), columns=['date', 'entropy'])\n",
    "sns.regplot(x=\"date\", y=\"entropy\", \n",
    "            data=data, color=sns.color_palette('PuBu_r')[0], \n",
    "            ax=ax, label='City toponyms',\n",
    "            scatter_kws={'alpha':0.5})\n",
    "\n",
    "data = pd.DataFrame(to_list(entropy['state']), columns=['date', 'entropy'])\n",
    "g = sns.regplot(x=\"date\", y=\"entropy\", data=data, ax=ax, \n",
    "                marker='^', color=sns.color_palette('PuBu_r')[2], label='Rest of state toponyms',scatter_kws={'alpha':0.5})\n",
    "\n",
    "xs = g.get_xticks()\n",
    "g.set_xticklabels([(datetime(2008,1,1) + timedelta(days=m)).strftime('%Y-%m') for m in xs])\n",
    "\n",
    "#ax.set_xticks(range(len(data.date))) \n",
    "#ax.set_xticklabels([str(2008+m%52) if m%52 == 0 else '' for m in data.date])\n",
    "\n",
    "ax.text(0.01, 0.75, 'less concentrated $\\longrightarrow$',\n",
    "        horizontalalignment='left',\n",
    "        verticalalignment='center',\n",
    "        rotation='vertical',\n",
    "        transform=ax.transAxes,\n",
    "        color='grey', size=13)\n",
    "\n",
    "ax.text(0.01, 0.25, '$\\longleftarrow$ more concentrated',\n",
    "        horizontalalignment='left',\n",
    "        verticalalignment='center',\n",
    "        rotation='vertical',\n",
    "        transform=ax.transAxes,\n",
    "        color='grey', size=13)\n",
    "\n",
    "#ax.spines['top'].set_visible(False)\n",
    "#ax.spines['right'].set_visible(False)\n",
    "\n",
    "ax.set_ylabel('Weekly Toponymic Entropy (bits)', size=15)\n",
    "ax.set_xlabel('Date of Publication', size=15)\n",
    "ax.legend(fontsize=15, markerscale=2, frameon=False)\n",
    "fig.tight_layout()\n",
    "plt.savefig('dp-toponymic-entropy-small.png', dpi=200)"
   ]
  },
  {
   "cell_type": "code",
   "execution_count": 14,
   "metadata": {},
   "outputs": [],
   "source": [
    "levels = ['city','county', 'state', 'national', 'international']"
   ]
  },
  {
   "cell_type": "code",
   "execution_count": 15,
   "metadata": {},
   "outputs": [
    {
     "name": "stdout",
     "output_type": "stream",
     "text": [
      "slope\t intercept\t r_value\t p_value\t std_err\t\n",
      "-0.00105\t 1.3878\t 0.2809\t 0.0\t 0.0001\t\n",
      "-0.00196\t 4.2211\t 0.4493\t 0.0\t 0.0001\t\n",
      "-0.00122\t 4.5202\t 0.4525\t 0.0\t 0.0001\t\n",
      "-0.0021\t 4.5094\t 0.5831\t 0.0\t 0.0001\t\n"
     ]
    }
   ],
   "source": [
    "def to_list(entropy_vals):   \n",
    "    ents = []\n",
    "    for year, weeks in entropy_vals.items():\n",
    "        for week, ent in weeks.items():\n",
    "            ents.append([((week - datetime(2008,1,1)).days)/7, ent])\n",
    "    return ents\n",
    "\n",
    "print('slope\\t', 'intercept\\t', 'r_value\\t','p_value\\t', 'std_err\\t')\n",
    "    \n",
    "data = pd.DataFrame(to_list(entropy['city']), columns=['date', 'entropy'])\n",
    "slope, intercept, r_value, p_value, std_err = stats.linregress(data.date,data.entropy)\n",
    "print(f'{round(slope,5)}\\t', f'{round(intercept,4)}\\t', \n",
    "          f'{round(r_value**2,4)}\\t',f'{round(p_value,4)}\\t', f'{round(std_err,4)}\\t')\n",
    "\n",
    "data = pd.DataFrame(to_list(entropy['state']), columns=['date', 'entropy'])\n",
    "slope, intercept, r_value, p_value, std_err = stats.linregress(data.date,data.entropy)\n",
    "print(f'{round(slope,5)}\\t', f'{round(intercept,4)}\\t', \n",
    "          f'{round(r_value**2,4)}\\t',f'{round(p_value,4)}\\t', f'{round(std_err,4)}\\t')\n",
    "data = pd.DataFrame(to_list(entropy['national']), columns=['date', 'entropy'])\n",
    "slope, intercept, r_value, p_value, std_err = stats.linregress(data.date,data.entropy)\n",
    "print(f'{round(slope,5)}\\t', f'{round(intercept,4)}\\t', \n",
    "          f'{round(r_value**2,4)}\\t',f'{round(p_value,4)}\\t', f'{round(std_err,4)}\\t')\n",
    "    \n",
    "data = pd.DataFrame(to_list(entropy['international']), columns=['date', 'entropy'])\n",
    "slope, intercept, r_value, p_value, std_err = stats.linregress(data.date,data.entropy)\n",
    "print(f'{round(slope,5)}\\t', f'{round(intercept,4)}\\t', \n",
    "          f'{round(r_value**2,4)}\\t',f'{round(p_value,4)}\\t', f'{round(std_err,4)}\\t')"
   ]
  },
  {
   "cell_type": "code",
   "execution_count": null,
   "metadata": {},
   "outputs": [],
   "source": []
  }
 ],
 "metadata": {
  "kernelspec": {
   "display_name": "Python 3",
   "language": "python",
   "name": "python3"
  },
  "language_info": {
   "codemirror_mode": {
    "name": "ipython",
    "version": 3
   },
   "file_extension": ".py",
   "mimetype": "text/x-python",
   "name": "python",
   "nbconvert_exporter": "python",
   "pygments_lexer": "ipython3",
   "version": "3.7.6"
  }
 },
 "nbformat": 4,
 "nbformat_minor": 4
}
